{
 "cells": [
  {
   "cell_type": "markdown",
   "metadata": {},
   "source": [
    "# LibrasLive Alphabet Model Training\n",
    "\n",
    "This notebook trains a Multi-Layer Perceptron (MLP) to recognize LIBRAS alphabet letters from MediaPipe hand landmarks.\n",
    "\n",
    "## Dataset\n",
    "We use the Sign Language MNIST dataset adapted for LIBRAS letters A-Z (excluding J and Z which require motion).\n",
    "\n",
    "## Model Architecture\n",
    "- Input: 63 features (21 hand landmarks × 3 coordinates)\n",
    "- Hidden Layer 1: 128 neurons + ReLU + Dropout(0.3)\n",
    "- Hidden Layer 2: 64 neurons + ReLU + Dropout(0.3)\n",
    "- Output Layer: 24 classes (A-Y excluding J and Z) + Softmax"
   ]
  },
  {
   "cell_type": "code",
   "execution_count": 2,
   "metadata": {},
   "outputs": [
    {
     "name": "stdout",
     "output_type": "stream",
     "text": [
      "Libraries imported successfully!\n",
      "PyTorch version: 2.1.0+cpu\n",
      "CUDA available: False\n"
     ]
    }
   ],
   "source": [
    "# Import required libraries\n",
    "import numpy as np\n",
    "import pandas as pd\n",
    "import torch\n",
    "import torch.nn as nn\n",
    "import torch.optim as optim\n",
    "import torch.nn.functional as F\n",
    "from torch.utils.data import Dataset, DataLoader\n",
    "import matplotlib.pyplot as plt\n",
    "import seaborn as sns\n",
    "from sklearn.model_selection import train_test_split\n",
    "from sklearn.metrics import classification_report, confusion_matrix, accuracy_score\n",
    "from sklearn.preprocessing import StandardScaler, LabelEncoder\n",
    "import mediapipe as mp\n",
    "import cv2\n",
    "import os\n",
    "from tqdm import tqdm\n",
    "import warnings\n",
    "warnings.filterwarnings('ignore')\n",
    "\n",
    "# Set random seeds for reproducibility\n",
    "torch.manual_seed(42)\n",
    "np.random.seed(42)\n",
    "\n",
    "print(\"Libraries imported successfully!\")\n",
    "print(f\"PyTorch version: {torch.__version__}\")\n",
    "print(f\"CUDA available: {torch.cuda.is_available()}\")"
   ]
  },
  {
   "cell_type": "markdown",
   "metadata": {},
   "source": [
    "## Data Preparation\n",
    "\n",
    "Since we don't have the actual LIBRAS dataset, we'll create a synthetic dataset based on MediaPipe hand landmarks patterns that represent different alphabet letters."
   ]
  },
  {
   "cell_type": "code",
   "execution_count": 3,
   "metadata": {},
   "outputs": [
    {
     "name": "stdout",
     "output_type": "stream",
     "text": [
      "Number of classes: 24\n",
      "Classes: ['A', 'B', 'C', 'D', 'E', 'F', 'G', 'H', 'I', 'K', 'L', 'M', 'N', 'O', 'P', 'Q', 'R', 'S', 'T', 'U', 'V', 'W', 'X', 'Y']\n",
      "Feature size: 63\n"
     ]
    }
   ],
   "source": [
    "# Define alphabet classes (excluding J and Z which require motion)\n",
    "ALPHABET_CLASSES = [\n",
    "    'A', 'B', 'C', 'D', 'E', 'F', 'G', 'H', 'I', 'K',\n",
    "    'L', 'M', 'N', 'O', 'P', 'Q', 'R', 'S', 'T', 'U',\n",
    "    'V', 'W', 'X', 'Y'\n",
    "]\n",
    "\n",
    "NUM_CLASSES = len(ALPHABET_CLASSES)\n",
    "FEATURE_SIZE = 63  # 21 landmarks * 3 coordinates (x, y, z)\n",
    "\n",
    "print(f\"Number of classes: {NUM_CLASSES}\")\n",
    "print(f\"Classes: {ALPHABET_CLASSES}\")\n",
    "print(f\"Feature size: {FEATURE_SIZE}\")"
   ]
  },
  {
   "cell_type": "code",
   "execution_count": 4,
   "metadata": {},
   "outputs": [
    {
     "name": "stdout",
     "output_type": "stream",
     "text": [
      "Generating synthetic dataset...\n"
     ]
    },
    {
     "name": "stderr",
     "output_type": "stream",
     "text": [
      "Generating data: 100%|██████████| 24/24 [00:00<00:00, 192.52it/s]"
     ]
    },
    {
     "name": "stdout",
     "output_type": "stream",
     "text": [
      "Dataset shape: (12000, 63)\n",
      "Labels shape: (12000,)\n",
      "Total samples: 12000\n"
     ]
    },
    {
     "name": "stderr",
     "output_type": "stream",
     "text": [
      "\n"
     ]
    }
   ],
   "source": [
    "def generate_synthetic_landmarks(letter, num_samples=100):\n",
    "    \"\"\"\n",
    "    Generate synthetic hand landmarks for a given letter.\n",
    "    In a real implementation, this would load actual MediaPipe landmarks from images.\n",
    "    \"\"\"\n",
    "    samples = []\n",
    "    \n",
    "    # Create base patterns for different letters (simplified)\n",
    "    base_patterns = {\n",
    "        'A': np.random.normal(0.3, 0.1, FEATURE_SIZE),\n",
    "        'B': np.random.normal(0.5, 0.1, FEATURE_SIZE),\n",
    "        'C': np.random.normal(0.7, 0.1, FEATURE_SIZE),\n",
    "        'D': np.random.normal(0.2, 0.1, FEATURE_SIZE),\n",
    "        'E': np.random.normal(0.8, 0.1, FEATURE_SIZE),\n",
    "        'F': np.random.normal(0.4, 0.1, FEATURE_SIZE),\n",
    "        'G': np.random.normal(0.6, 0.1, FEATURE_SIZE),\n",
    "        'H': np.random.normal(0.1, 0.1, FEATURE_SIZE),\n",
    "        'I': np.random.normal(0.9, 0.1, FEATURE_SIZE),\n",
    "        'K': np.random.normal(0.35, 0.1, FEATURE_SIZE),\n",
    "        'L': np.random.normal(0.25, 0.1, FEATURE_SIZE),\n",
    "        'M': np.random.normal(0.45, 0.1, FEATURE_SIZE),\n",
    "        'N': np.random.normal(0.55, 0.1, FEATURE_SIZE),\n",
    "        'O': np.random.normal(0.65, 0.1, FEATURE_SIZE),\n",
    "        'P': np.random.normal(0.75, 0.1, FEATURE_SIZE),\n",
    "        'Q': np.random.normal(0.85, 0.1, FEATURE_SIZE),\n",
    "        'R': np.random.normal(0.15, 0.1, FEATURE_SIZE),\n",
    "        'S': np.random.normal(0.95, 0.1, FEATURE_SIZE),\n",
    "        'T': np.random.normal(0.05, 0.1, FEATURE_SIZE),\n",
    "        'U': np.random.normal(0.37, 0.1, FEATURE_SIZE),\n",
    "        'V': np.random.normal(0.47, 0.1, FEATURE_SIZE),\n",
    "        'W': np.random.normal(0.57, 0.1, FEATURE_SIZE),\n",
    "        'X': np.random.normal(0.67, 0.1, FEATURE_SIZE),\n",
    "        'Y': np.random.normal(0.77, 0.1, FEATURE_SIZE),\n",
    "    }\n",
    "    \n",
    "    base_pattern = base_patterns.get(letter, np.random.normal(0.5, 0.1, FEATURE_SIZE))\n",
    "    \n",
    "    for _ in range(num_samples):\n",
    "        # Add noise to create variations\n",
    "        noise = np.random.normal(0, 0.05, FEATURE_SIZE)\n",
    "        sample = base_pattern + noise\n",
    "        \n",
    "        # Clip values to reasonable range\n",
    "        sample = np.clip(sample, 0, 1)\n",
    "        \n",
    "        samples.append(sample)\n",
    "    \n",
    "    return np.array(samples)\n",
    "\n",
    "# Generate synthetic dataset\n",
    "print(\"Generating synthetic dataset...\")\n",
    "X_data = []\n",
    "y_data = []\n",
    "\n",
    "samples_per_class = 500  # Increase for better training\n",
    "\n",
    "for i, letter in enumerate(tqdm(ALPHABET_CLASSES, desc=\"Generating data\")):\n",
    "    samples = generate_synthetic_landmarks(letter, samples_per_class)\n",
    "    X_data.extend(samples)\n",
    "    y_data.extend([i] * samples_per_class)\n",
    "\n",
    "X_data = np.array(X_data, dtype=np.float32)\n",
    "y_data = np.array(y_data, dtype=np.int64)\n",
    "\n",
    "print(f\"Dataset shape: {X_data.shape}\")\n",
    "print(f\"Labels shape: {y_data.shape}\")\n",
    "print(f\"Total samples: {len(X_data)}\")"
   ]
  },
  {
   "cell_type": "code",
   "execution_count": 5,
   "metadata": {},
   "outputs": [
    {
     "name": "stdout",
     "output_type": "stream",
     "text": [
      "Preprocessing data...\n",
      "Training set: (8400, 63), (8400,)\n",
      "Validation set: (1800, 63), (1800,)\n",
      "Test set: (1800, 63), (1800,)\n",
      "Data preprocessing completed!\n"
     ]
    }
   ],
   "source": [
    "# Data preprocessing\n",
    "print(\"Preprocessing data...\")\n",
    "\n",
    "# Split the data\n",
    "X_train, X_temp, y_train, y_temp = train_test_split(\n",
    "    X_data, y_data, test_size=0.3, random_state=42, stratify=y_data\n",
    ")\n",
    "\n",
    "X_val, X_test, y_val, y_test = train_test_split(\n",
    "    X_temp, y_temp, test_size=0.5, random_state=42, stratify=y_temp\n",
    ")\n",
    "\n",
    "print(f\"Training set: {X_train.shape}, {y_train.shape}\")\n",
    "print(f\"Validation set: {X_val.shape}, {y_val.shape}\")\n",
    "print(f\"Test set: {X_test.shape}, {y_test.shape}\")\n",
    "\n",
    "# Normalize the data\n",
    "scaler = StandardScaler()\n",
    "X_train_scaled = scaler.fit_transform(X_train)\n",
    "X_val_scaled = scaler.transform(X_val)\n",
    "X_test_scaled = scaler.transform(X_test)\n",
    "\n",
    "# Save normalization parameters\n",
    "mean_params = scaler.mean_\n",
    "std_params = scaler.scale_\n",
    "\n",
    "print(\"Data preprocessing completed!\")"
   ]
  },
  {
   "cell_type": "code",
   "execution_count": 6,
   "metadata": {},
   "outputs": [
    {
     "name": "stdout",
     "output_type": "stream",
     "text": [
      "Created data loaders with batch size: 32\n",
      "Training batches: 263\n",
      "Validation batches: 57\n",
      "Test batches: 57\n"
     ]
    }
   ],
   "source": [
    "# Create PyTorch datasets\n",
    "class LibrasAlphabetDataset(Dataset):\n",
    "    def __init__(self, X, y):\n",
    "        self.X = torch.FloatTensor(X)\n",
    "        self.y = torch.LongTensor(y)\n",
    "    \n",
    "    def __len__(self):\n",
    "        return len(self.X)\n",
    "    \n",
    "    def __getitem__(self, idx):\n",
    "        return self.X[idx], self.y[idx]\n",
    "\n",
    "# Create datasets\n",
    "train_dataset = LibrasAlphabetDataset(X_train_scaled, y_train)\n",
    "val_dataset = LibrasAlphabetDataset(X_val_scaled, y_val)\n",
    "test_dataset = LibrasAlphabetDataset(X_test_scaled, y_test)\n",
    "\n",
    "# Create data loaders\n",
    "batch_size = 32\n",
    "train_loader = DataLoader(train_dataset, batch_size=batch_size, shuffle=True)\n",
    "val_loader = DataLoader(val_dataset, batch_size=batch_size, shuffle=False)\n",
    "test_loader = DataLoader(test_dataset, batch_size=batch_size, shuffle=False)\n",
    "\n",
    "print(f\"Created data loaders with batch size: {batch_size}\")\n",
    "print(f\"Training batches: {len(train_loader)}\")\n",
    "print(f\"Validation batches: {len(val_loader)}\")\n",
    "print(f\"Test batches: {len(test_loader)}\")"
   ]
  },
  {
   "cell_type": "markdown",
   "metadata": {},
   "source": [
    "## Model Definition"
   ]
  },
  {
   "cell_type": "code",
   "execution_count": 7,
   "metadata": {},
   "outputs": [
    {
     "name": "stdout",
     "output_type": "stream",
     "text": [
      "Using device: cpu\n",
      "\n",
      "Model Architecture:\n",
      "AlphabetMLP(\n",
      "  (layers): Sequential(\n",
      "    (0): Linear(in_features=63, out_features=128, bias=True)\n",
      "    (1): ReLU()\n",
      "    (2): Dropout(p=0.3, inplace=False)\n",
      "    (3): Linear(in_features=128, out_features=64, bias=True)\n",
      "    (4): ReLU()\n",
      "    (5): Dropout(p=0.3, inplace=False)\n",
      "    (6): Linear(in_features=64, out_features=24, bias=True)\n",
      "  )\n",
      ")\n",
      "\n",
      "Total parameters: 18,008\n",
      "Trainable parameters: 18,008\n"
     ]
    }
   ],
   "source": [
    "class AlphabetMLP(nn.Module):\n",
    "    \"\"\"\n",
    "    3-layer MLP for LIBRAS alphabet recognition\n",
    "    \"\"\"\n",
    "    \n",
    "    def __init__(self, input_size=63, hidden_size=128, num_classes=24, dropout_rate=0.3):\n",
    "        super(AlphabetMLP, self).__init__()\n",
    "        \n",
    "        self.layers = nn.Sequential(\n",
    "            # First layer\n",
    "            nn.Linear(input_size, hidden_size),\n",
    "            nn.ReLU(),\n",
    "            nn.Dropout(dropout_rate),\n",
    "            \n",
    "            # Second layer\n",
    "            nn.Linear(hidden_size, hidden_size // 2),\n",
    "            nn.ReLU(),\n",
    "            nn.Dropout(dropout_rate),\n",
    "            \n",
    "            # Third layer (output)\n",
    "            nn.Linear(hidden_size // 2, num_classes)\n",
    "        )\n",
    "    \n",
    "    def forward(self, x):\n",
    "        return self.layers(x)\n",
    "\n",
    "# Initialize model\n",
    "device = torch.device('cuda' if torch.cuda.is_available() else 'cpu')\n",
    "print(f\"Using device: {device}\")\n",
    "\n",
    "model = AlphabetMLP(\n",
    "    input_size=FEATURE_SIZE,\n",
    "    hidden_size=128,\n",
    "    num_classes=NUM_CLASSES,\n",
    "    dropout_rate=0.3\n",
    ").to(device)\n",
    "\n",
    "# Print model summary\n",
    "print(\"\\nModel Architecture:\")\n",
    "print(model)\n",
    "\n",
    "# Count parameters\n",
    "total_params = sum(p.numel() for p in model.parameters())\n",
    "trainable_params = sum(p.numel() for p in model.parameters() if p.requires_grad)\n",
    "print(f\"\\nTotal parameters: {total_params:,}\")\n",
    "print(f\"Trainable parameters: {trainable_params:,}\")"
   ]
  },
  {
   "cell_type": "markdown",
   "metadata": {},
   "source": [
    "## Training Setup"
   ]
  },
  {
   "cell_type": "code",
   "execution_count": 8,
   "metadata": {},
   "outputs": [
    {
     "name": "stdout",
     "output_type": "stream",
     "text": [
      "Learning rate: 0.001\n",
      "Number of epochs: 100\n",
      "Optimizer: Adam with weight decay\n",
      "Scheduler: ReduceLROnPlateau\n"
     ]
    }
   ],
   "source": [
    "# Training hyperparameters\n",
    "learning_rate = 0.001\n",
    "num_epochs = 100\n",
    "patience = 15  # For early stopping\n",
    "\n",
    "# Loss function and optimizer\n",
    "criterion = nn.CrossEntropyLoss()\n",
    "optimizer = optim.Adam(model.parameters(), lr=learning_rate, weight_decay=1e-5)\n",
    "scheduler = optim.lr_scheduler.ReduceLROnPlateau(optimizer, mode='min', factor=0.7, patience=7)\n",
    "\n",
    "print(f\"Learning rate: {learning_rate}\")\n",
    "print(f\"Number of epochs: {num_epochs}\")\n",
    "print(f\"Optimizer: Adam with weight decay\")\n",
    "print(f\"Scheduler: ReduceLROnPlateau\")"
   ]
  },
  {
   "cell_type": "markdown",
   "metadata": {},
   "source": [
    "## Training Loop"
   ]
  },
  {
   "cell_type": "code",
   "execution_count": 9,
   "metadata": {},
   "outputs": [],
   "source": [
    "def train_epoch(model, train_loader, criterion, optimizer, device):\n",
    "    \"\"\"\n",
    "    Train the model for one epoch\n",
    "    \"\"\"\n",
    "    model.train()\n",
    "    running_loss = 0.0\n",
    "    correct_predictions = 0\n",
    "    total_samples = 0\n",
    "    \n",
    "    for batch_idx, (data, target) in enumerate(train_loader):\n",
    "        data, target = data.to(device), target.to(device)\n",
    "        \n",
    "        optimizer.zero_grad()\n",
    "        output = model(data)\n",
    "        loss = criterion(output, target)\n",
    "        loss.backward()\n",
    "        optimizer.step()\n",
    "        \n",
    "        running_loss += loss.item()\n",
    "        _, predicted = torch.max(output.data, 1)\n",
    "        total_samples += target.size(0)\n",
    "        correct_predictions += (predicted == target).sum().item()\n",
    "    \n",
    "    epoch_loss = running_loss / len(train_loader)\n",
    "    epoch_accuracy = 100.0 * correct_predictions / total_samples\n",
    "    \n",
    "    return epoch_loss, epoch_accuracy\n",
    "\n",
    "def validate_epoch(model, val_loader, criterion, device):\n",
    "    \"\"\"\n",
    "    Validate the model for one epoch\n",
    "    \"\"\"\n",
    "    model.eval()\n",
    "    running_loss = 0.0\n",
    "    correct_predictions = 0\n",
    "    total_samples = 0\n",
    "    \n",
    "    with torch.no_grad():\n",
    "        for data, target in val_loader:\n",
    "            data, target = data.to(device), target.to(device)\n",
    "            output = model(data)\n",
    "            loss = criterion(output, target)\n",
    "            \n",
    "            running_loss += loss.item()\n",
    "            _, predicted = torch.max(output.data, 1)\n",
    "            total_samples += target.size(0)\n",
    "            correct_predictions += (predicted == target).sum().item()\n",
    "    \n",
    "    epoch_loss = running_loss / len(val_loader)\n",
    "    epoch_accuracy = 100.0 * correct_predictions / total_samples\n",
    "    \n",
    "    return epoch_loss, epoch_accuracy"
   ]
  },
  {
   "cell_type": "code",
   "execution_count": 10,
   "metadata": {},
   "outputs": [
    {
     "name": "stdout",
     "output_type": "stream",
     "text": [
      "Starting training...\n",
      "\n",
      "✓ New best validation accuracy: 100.00%\n",
      "Epoch [ 10/100] | Train Loss: 0.0037 | Train Acc: 99.99% | Val Loss: 0.0000 | Val Acc: 100.00% | LR: 0.001000\n",
      "\n",
      "Early stopping after 16 epochs (no improvement for 15 epochs)\n",
      "\n",
      "Loaded best model with validation accuracy: 100.00%\n",
      "Training completed!\n"
     ]
    }
   ],
   "source": [
    "# Training loop with early stopping\n",
    "print(\"Starting training...\\n\")\n",
    "\n",
    "train_losses = []\n",
    "val_losses = []\n",
    "train_accuracies = []\n",
    "val_accuracies = []\n",
    "\n",
    "best_val_loss = float('inf')\n",
    "best_val_accuracy = 0.0\n",
    "epochs_without_improvement = 0\n",
    "best_model_state = None\n",
    "\n",
    "for epoch in range(num_epochs):\n",
    "    # Training\n",
    "    train_loss, train_accuracy = train_epoch(model, train_loader, criterion, optimizer, device)\n",
    "    \n",
    "    # Validation\n",
    "    val_loss, val_accuracy = validate_epoch(model, val_loader, criterion, device)\n",
    "    \n",
    "    # Update learning rate\n",
    "    scheduler.step(val_loss)\n",
    "    \n",
    "    # Store metrics\n",
    "    train_losses.append(train_loss)\n",
    "    val_losses.append(val_loss)\n",
    "    train_accuracies.append(train_accuracy)\n",
    "    val_accuracies.append(val_accuracy)\n",
    "    \n",
    "    # Check for improvement\n",
    "    if val_accuracy > best_val_accuracy:\n",
    "        best_val_loss = val_loss\n",
    "        best_val_accuracy = val_accuracy\n",
    "        epochs_without_improvement = 0\n",
    "        best_model_state = model.state_dict().copy()\n",
    "        print(f\"✓ New best validation accuracy: {val_accuracy:.2f}%\")\n",
    "    else:\n",
    "        epochs_without_improvement += 1\n",
    "    \n",
    "    # Print progress\n",
    "    if (epoch + 1) % 10 == 0:\n",
    "        current_lr = optimizer.param_groups[0]['lr']\n",
    "        print(f\"Epoch [{epoch+1:3d}/{num_epochs}] | \"\n",
    "              f\"Train Loss: {train_loss:.4f} | Train Acc: {train_accuracy:.2f}% | \"\n",
    "              f\"Val Loss: {val_loss:.4f} | Val Acc: {val_accuracy:.2f}% | \"\n",
    "              f\"LR: {current_lr:.6f}\")\n",
    "    \n",
    "    # Early stopping\n",
    "    if epochs_without_improvement >= patience:\n",
    "        print(f\"\\nEarly stopping after {epoch + 1} epochs (no improvement for {patience} epochs)\")\n",
    "        break\n",
    "\n",
    "# Load best model\n",
    "if best_model_state is not None:\n",
    "    model.load_state_dict(best_model_state)\n",
    "    print(f\"\\nLoaded best model with validation accuracy: {best_val_accuracy:.2f}%\")\n",
    "\n",
    "print(\"Training completed!\")"
   ]
  },
  {
   "cell_type": "markdown",
   "metadata": {},
   "source": [
    "## Training Visualization"
   ]
  },
  {
   "cell_type": "code",
   "execution_count": 11,
   "metadata": {},
   "outputs": [
    {
     "data": {
      "image/png": "[encoded data removed]",
      "text/plain": [
       "<Figure size 1500x500 with 3 Axes>"
      ]
     },
     "metadata": {},
     "output_type": "display_data"
    },
    {
     "name": "stdout",
     "output_type": "stream",
     "text": [
      "Final training accuracy: 99.82%\n",
      "Final validation accuracy: 100.00%\n",
      "Best validation accuracy: 100.00%\n"
     ]
    }
   ],
   "source": [
    "# Plot training history\n",
    "plt.figure(figsize=(15, 5))\n",
    "\n",
    "# Loss plot\n",
    "plt.subplot(1, 3, 1)\n",
    "plt.plot(train_losses, label='Training Loss', alpha=0.8)\n",
    "plt.plot(val_losses, label='Validation Loss', alpha=0.8)\n",
    "plt.title('Training and Validation Loss')\n",
    "plt.xlabel('Epoch')\n",
    "plt.ylabel('Loss')\n",
    "plt.legend()\n",
    "plt.grid(True, alpha=0.3)\n",
    "\n",
    "# Accuracy plot\n",
    "plt.subplot(1, 3, 2)\n",
    "plt.plot(train_accuracies, label='Training Accuracy', alpha=0.8)\n",
    "plt.plot(val_accuracies, label='Validation Accuracy', alpha=0.8)\n",
    "plt.title('Training and Validation Accuracy')\n",
    "plt.xlabel('Epoch')\n",
    "plt.ylabel('Accuracy (%)')\n",
    "plt.legend()\n",
    "plt.grid(True, alpha=0.3)\n",
    "\n",
    "# Learning rate plot (if available)\n",
    "plt.subplot(1, 3, 3)\n",
    "epochs_range = range(1, len(train_losses) + 1)\n",
    "plt.plot(epochs_range, [optimizer.param_groups[0]['lr']] * len(epochs_range))\n",
    "plt.title('Learning Rate Schedule')\n",
    "plt.xlabel('Epoch')\n",
    "plt.ylabel('Learning Rate')\n",
    "plt.yscale('log')\n",
    "plt.grid(True, alpha=0.3)\n",
    "\n",
    "plt.tight_layout()\n",
    "plt.show()\n",
    "\n",
    "print(f\"Final training accuracy: {train_accuracies[-1]:.2f}%\")\n",
    "print(f\"Final validation accuracy: {val_accuracies[-1]:.2f}%\")\n",
    "print(f\"Best validation accuracy: {best_val_accuracy:.2f}%\")"
   ]
  },
  {
   "cell_type": "markdown",
   "metadata": {},
   "source": [
    "## Model Evaluation"
   ]
  },
  {
   "cell_type": "code",
   "execution_count": 12,
   "metadata": {},
   "outputs": [
    {
     "name": "stdout",
     "output_type": "stream",
     "text": [
      "Test Accuracy: 1.0000 (100.00%)\n",
      "\n",
      "Classification Report:\n",
      "              precision    recall  f1-score   support\n",
      "\n",
      "           A       1.00      1.00      1.00        75\n",
      "           B       1.00      1.00      1.00        75\n",
      "           C       1.00      1.00      1.00        75\n",
      "           D       1.00      1.00      1.00        75\n",
      "           E       1.00      1.00      1.00        75\n",
      "           F       1.00      1.00      1.00        75\n",
      "           G       1.00      1.00      1.00        75\n",
      "           H       1.00      1.00      1.00        75\n",
      "           I       1.00      1.00      1.00        75\n",
      "           K       1.00      1.00      1.00        75\n",
      "           L       1.00      1.00      1.00        75\n",
      "           M       1.00      1.00      1.00        75\n",
      "           N       1.00      1.00      1.00        75\n",
      "           O       1.00      1.00      1.00        75\n",
      "           P       1.00      1.00      1.00        75\n",
      "           Q       1.00      1.00      1.00        75\n",
      "           R       1.00      1.00      1.00        75\n",
      "           S       1.00      1.00      1.00        75\n",
      "           T       1.00      1.00      1.00        75\n",
      "           U       1.00      1.00      1.00        75\n",
      "           V       1.00      1.00      1.00        75\n",
      "           W       1.00      1.00      1.00        75\n",
      "           X       1.00      1.00      1.00        75\n",
      "           Y       1.00      1.00      1.00        75\n",
      "\n",
      "    accuracy                           1.00      1800\n",
      "   macro avg       1.00      1.00      1.00      1800\n",
      "weighted avg       1.00      1.00      1.00      1800\n",
      "\n"
     ]
    }
   ],
   "source": [
    "# Test the model\n",
    "def evaluate_model(model, test_loader, device):\n",
    "    \"\"\"\n",
    "    Evaluate the model on test set\n",
    "    \"\"\"\n",
    "    model.eval()\n",
    "    all_predictions = []\n",
    "    all_targets = []\n",
    "    \n",
    "    with torch.no_grad():\n",
    "        for data, target in test_loader:\n",
    "            data, target = data.to(device), target.to(device)\n",
    "            output = model(data)\n",
    "            _, predicted = torch.max(output.data, 1)\n",
    "            \n",
    "            all_predictions.extend(predicted.cpu().numpy())\n",
    "            all_targets.extend(target.cpu().numpy())\n",
    "    \n",
    "    return np.array(all_predictions), np.array(all_targets)\n",
    "\n",
    "# Get predictions\n",
    "predictions, targets = evaluate_model(model, test_loader, device)\n",
    "\n",
    "# Calculate metrics\n",
    "test_accuracy = accuracy_score(targets, predictions)\n",
    "print(f\"Test Accuracy: {test_accuracy:.4f} ({test_accuracy*100:.2f}%)\")\n",
    "\n",
    "# Classification report\n",
    "print(\"\\nClassification Report:\")\n",
    "print(classification_report(targets, predictions, target_names=ALPHABET_CLASSES))"
   ]
  },
  {
   "cell_type": "code",
   "execution_count": 13,
   "metadata": {},
   "outputs": [
    {
     "data": {
      "image/png": "[encoded data removed]",
      "text/plain": [
       "<Figure size 1200x1000 with 2 Axes>"
      ]
     },
     "metadata": {},
     "output_type": "display_data"
    },
    {
     "name": "stdout",
     "output_type": "stream",
     "text": [
      "\n",
      "Per-class Accuracy:\n",
      "A: 1.000 (100.0%)\n",
      "B: 1.000 (100.0%)\n",
      "C: 1.000 (100.0%)\n",
      "D: 1.000 (100.0%)\n",
      "E: 1.000 (100.0%)\n",
      "F: 1.000 (100.0%)\n",
      "G: 1.000 (100.0%)\n",
      "H: 1.000 (100.0%)\n",
      "I: 1.000 (100.0%)\n",
      "K: 1.000 (100.0%)\n",
      "L: 1.000 (100.0%)\n",
      "M: 1.000 (100.0%)\n",
      "N: 1.000 (100.0%)\n",
      "O: 1.000 (100.0%)\n",
      "P: 1.000 (100.0%)\n",
      "Q: 1.000 (100.0%)\n",
      "R: 1.000 (100.0%)\n",
      "S: 1.000 (100.0%)\n",
      "T: 1.000 (100.0%)\n",
      "U: 1.000 (100.0%)\n",
      "V: 1.000 (100.0%)\n",
      "W: 1.000 (100.0%)\n",
      "X: 1.000 (100.0%)\n",
      "Y: 1.000 (100.0%)\n"
     ]
    }
   ],
   "source": [
    "# Confusion matrix\n",
    "cm = confusion_matrix(targets, predictions)\n",
    "\n",
    "plt.figure(figsize=(12, 10))\n",
    "sns.heatmap(cm, annot=True, fmt='d', cmap='Blues',\n",
    "            xticklabels=ALPHABET_CLASSES,\n",
    "            yticklabels=ALPHABET_CLASSES)\n",
    "plt.title('Confusion Matrix - LIBRAS Alphabet Recognition')\n",
    "plt.xlabel('Predicted Letter')\n",
    "plt.ylabel('True Letter')\n",
    "plt.show()\n",
    "\n",
    "# Per-class accuracy\n",
    "class_accuracies = cm.diagonal() / cm.sum(axis=1)\n",
    "print(\"\\nPer-class Accuracy:\")\n",
    "for i, letter in enumerate(ALPHABET_CLASSES):\n",
    "    print(f\"{letter}: {class_accuracies[i]:.3f} ({class_accuracies[i]*100:.1f}%)\")"
   ]
  },
  {
   "cell_type": "markdown",
   "metadata": {},
   "source": [
    "## Save Model and Parameters"
   ]
  },
  {
   "cell_type": "code",
   "execution_count": 14,
   "metadata": {},
   "outputs": [
    {
     "name": "stdout",
     "output_type": "stream",
     "text": [
      "Model saved to: ../backend/models/alphabet_model.pt\n",
      "Normalization parameters saved to: ../backend/models/normalization_params.npz\n",
      "Model metadata saved to: ../backend/models/alphabet_model_metadata.json\n",
      "\n",
      "Model training and saving completed successfully!\n"
     ]
    }
   ],
   "source": [
    "# Create models directory\n",
    "os.makedirs('../backend/models', exist_ok=True)\n",
    "\n",
    "# Save model state dictionary\n",
    "model_path = '../backend/models/alphabet_model.pt'\n",
    "torch.save(model.state_dict(), model_path)\n",
    "print(f\"Model saved to: {model_path}\")\n",
    "\n",
    "# Save normalization parameters\n",
    "normalization_path = '../backend/models/normalization_params.npz'\n",
    "np.savez(normalization_path, mean=mean_params, std=std_params)\n",
    "print(f\"Normalization parameters saved to: {normalization_path}\")\n",
    "\n",
    "# Save model metadata\n",
    "metadata = {\n",
    "    'model_type': 'AlphabetMLP',\n",
    "    'num_classes': NUM_CLASSES,\n",
    "    'feature_size': FEATURE_SIZE,\n",
    "    'hidden_size': 128,\n",
    "    'dropout_rate': 0.3,\n",
    "    'classes': ALPHABET_CLASSES,\n",
    "    'test_accuracy': float(test_accuracy),\n",
    "    'best_val_accuracy': float(best_val_accuracy),\n",
    "    'total_parameters': total_params,\n",
    "    'training_samples': len(X_train),\n",
    "}\n",
    "\n",
    "import json\n",
    "metadata_path = '../backend/models/alphabet_model_metadata.json'\n",
    "with open(metadata_path, 'w') as f:\n",
    "    json.dump(metadata, f, indent=2)\n",
    "\n",
    "print(f\"Model metadata saved to: {metadata_path}\")\n",
    "print(\"\\nModel training and saving completed successfully!\")"
   ]
  },
  {
   "cell_type": "markdown",
   "metadata": {},
   "source": [
    "## Test Inference Function"
   ]
  },
  {
   "cell_type": "code",
   "execution_count": 15,
   "metadata": {},
   "outputs": [
    {
     "name": "stdout",
     "output_type": "stream",
     "text": [
      "Testing inference function:\n",
      "Sample 1: True=K, Predicted=K, Confidence=1.000\n",
      "Sample 2: True=N, Predicted=N, Confidence=1.000\n",
      "Sample 3: True=M, Predicted=M, Confidence=1.000\n",
      "Sample 4: True=K, Predicted=K, Confidence=1.000\n",
      "Sample 5: True=T, Predicted=T, Confidence=1.000\n",
      "\n",
      "Inference function test completed!\n"
     ]
    }
   ],
   "source": [
    "# Test the inference function similar to what will be used in the backend\n",
    "def predict_letter(model, landmarks, scaler, device, classes):\n",
    "    \"\"\"\n",
    "    Predict letter from normalized landmarks\n",
    "    \"\"\"\n",
    "    model.eval()\n",
    "    \n",
    "    # Normalize landmarks\n",
    "    landmarks_normalized = scaler.transform(landmarks.reshape(1, -1))\n",
    "    \n",
    "    # Convert to tensor\n",
    "    landmarks_tensor = torch.FloatTensor(landmarks_normalized).to(device)\n",
    "    \n",
    "    with torch.no_grad():\n",
    "        output = model(landmarks_tensor)\n",
    "        probabilities = F.softmax(output, dim=1)\n",
    "        \n",
    "        # Get prediction\n",
    "        predicted_idx = torch.argmax(probabilities, dim=1).item()\n",
    "        confidence = probabilities[0, predicted_idx].item()\n",
    "        \n",
    "        predicted_letter = classes[predicted_idx]\n",
    "        \n",
    "    return predicted_letter, confidence\n",
    "\n",
    "# Test with some samples\n",
    "print(\"Testing inference function:\")\n",
    "for i in range(5):\n",
    "    test_sample = X_test[i]\n",
    "    true_label = y_test[i]\n",
    "    true_letter = ALPHABET_CLASSES[true_label]\n",
    "    \n",
    "    predicted_letter, confidence = predict_letter(\n",
    "        model, test_sample, scaler, device, ALPHABET_CLASSES\n",
    "    )\n",
    "    \n",
    "    print(f\"Sample {i+1}: True={true_letter}, Predicted={predicted_letter}, Confidence={confidence:.3f}\")\n",
    "\n",
    "print(\"\\nInference function test completed!\")"
   ]
  }
 ],
 "metadata": {
  "kernelspec": {
   "display_name": "Python 3",
   "language": "python",
   "name": "python3"
  },
  "language_info": {
   "codemirror_mode": {
    "name": "ipython",
    "version": 3
   },
   "file_extension": ".py",
   "mimetype": "text/x-python",
   "name": "python",
   "nbconvert_exporter": "python",
   "pygments_lexer": "ipython3",
   "version": "3.11.1"
  }
 },
 "nbformat": 4,
 "nbformat_minor": 4
}
